{
 "cells": [
  {
   "cell_type": "markdown",
   "metadata": {},
   "source": [
    "练习1 ： 使用 pytorch 编写一个线性回归学习模型"
   ]
  },
  {
   "cell_type": "code",
   "execution_count": 1,
   "metadata": {},
   "outputs": [],
   "source": [
    "import torch\n",
    "import torch.nn as nn\n",
    "import torch.optim as optim\n",
    "from torch.nn import init\n",
    "from torch.utils.data import Dataset, DataLoader, TensorDataset\n",
    "\n",
    "import numpy as np"
   ]
  },
  {
   "cell_type": "code",
   "execution_count": 2,
   "metadata": {},
   "outputs": [],
   "source": [
    "true_w = 10\n",
    "true_b = 4\n",
    "features = torch.randn(1000, 1)\n",
    "labels = true_w * features + true_b\n",
    "labels += torch.tensor(np.random.normal(0, 0.01, size=labels.size()))"
   ]
  },
  {
   "cell_type": "markdown",
   "metadata": {},
   "source": [
    "**pytorch 中的 Dataset TensorDataset 和 DataLoader**\n",
    "\n",
    "1. Dataset\n",
    "\n",
    "Dataset 是一个包装类，用来将数据包装为 Dataset 类，然后传入 DataLoader 中，再使用 DataLoader 这个类来更加快捷的对数据进行操作\n",
    "\n",
    "2. DataLoader\n",
    "\n",
    "DataLoader 提供的常用操作有：batch_size(每个batch的大小), shuffle(是否进行shuffle操作), num_workers(加载数据的时候使用几个子进程)\n",
    "\n",
    "3. TensorDataset\n",
    "\n",
    "使用 TensorDataset 来将数据包装成Dataset类。 TensorDataset(data_tensor, target_tensor)"
   ]
  },
  {
   "cell_type": "code",
   "execution_count": 3,
   "metadata": {},
   "outputs": [],
   "source": [
    "data_set = TensorDataset(features, labels)\n",
    "data_iter = DataLoader(data_set, batch_size = 128, shuffle = True)"
   ]
  },
  {
   "cell_type": "code",
   "execution_count": 4,
   "metadata": {},
   "outputs": [
    {
     "name": "stdout",
     "output_type": "stream",
     "text": [
      "MYLinearNet(\n",
      "  (linear): Linear(in_features=1, out_features=1, bias=True)\n",
      ")\n"
     ]
    },
    {
     "data": {
      "text/plain": [
       "Parameter containing:\n",
       "tensor([0.], requires_grad=True)"
      ]
     },
     "execution_count": 4,
     "metadata": {},
     "output_type": "execute_result"
    }
   ],
   "source": [
    "class MYLinearNet(nn.Module):\n",
    "    def __init__(self, n_feature):\n",
    "        super(MYLinearNet, self).__init__()\n",
    "        self.linear = nn.Linear(n_feature, 1)\n",
    "    def forward(self, x):\n",
    "        y = self.linear(x)\n",
    "        return y\n",
    "    \n",
    "n_feature = 1\n",
    "net = MYLinearNet(n_feature)\n",
    "print(net)\n",
    "\n",
    "init.normal_(net.linear.weight, mean=0, std=0.01)\n",
    "init.constant_(net.linear.bias, val=0)"
   ]
  },
  {
   "cell_type": "code",
   "execution_count": 5,
   "metadata": {},
   "outputs": [],
   "source": [
    "loss = nn.MSELoss()"
   ]
  },
  {
   "cell_type": "code",
   "execution_count": 6,
   "metadata": {},
   "outputs": [],
   "source": [
    "optimizer = optim.SGD(net.parameters(), lr=0.03)"
   ]
  },
  {
   "cell_type": "code",
   "execution_count": 7,
   "metadata": {},
   "outputs": [
    {
     "name": "stdout",
     "output_type": "stream",
     "text": [
      "epoch is 0, loss is 46.424766540527344\n",
      "epoch is 1, loss is 15.557282447814941\n",
      "epoch is 2, loss is 5.207917213439941\n",
      "epoch is 3, loss is 1.9816479682922363\n",
      "epoch is 4, loss is 0.7215904593467712\n",
      "epoch is 5, loss is 0.26479119062423706\n",
      "epoch is 6, loss is 0.09405528753995895\n",
      "epoch is 7, loss is 0.030837764963507652\n",
      "epoch is 8, loss is 0.009689818136394024\n",
      "epoch is 9, loss is 0.003008213359862566\n"
     ]
    }
   ],
   "source": [
    "for epoch in range(10):\n",
    "    for X, y in data_iter:\n",
    "        output = net(X)\n",
    "        l = loss(output, y)\n",
    "        \n",
    "        optimizer.zero_grad()\n",
    "        l.backward()\n",
    "        optimizer.step()\n",
    "        \n",
    "    print(\"epoch is %s, loss is %s\" %(epoch, l.item()))"
   ]
  },
  {
   "cell_type": "code",
   "execution_count": 8,
   "metadata": {},
   "outputs": [
    {
     "name": "stdout",
     "output_type": "stream",
     "text": [
      "weight true value is 10, train value is 9.949129104614258\n",
      "bias true value is 4, train value is 3.9797616004943848\n"
     ]
    }
   ],
   "source": [
    "print(\"weight true value is %s, train value is %s\" % (true_w, net.linear.weight.item()))\n",
    "print(\"bias true value is %s, train value is %s\" % (true_b, net.linear.bias.item()))"
   ]
  },
  {
   "cell_type": "code",
   "execution_count": null,
   "metadata": {},
   "outputs": [],
   "source": []
  }
 ],
 "metadata": {
  "kernelspec": {
   "display_name": "Python 3",
   "language": "python",
   "name": "python3"
  },
  "language_info": {
   "codemirror_mode": {
    "name": "ipython",
    "version": 3
   },
   "file_extension": ".py",
   "mimetype": "text/x-python",
   "name": "python",
   "nbconvert_exporter": "python",
   "pygments_lexer": "ipython3",
   "version": "3.8.5"
  }
 },
 "nbformat": 4,
 "nbformat_minor": 4
}
